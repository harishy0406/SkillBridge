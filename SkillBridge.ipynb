{
 "cells": [
  {
   "cell_type": "code",
   "execution_count": 8,
   "id": "d085ab5b",
   "metadata": {},
   "outputs": [],
   "source": [
    "import pandas as pd\n",
    "import numpy as np\n",
    "from sklearn.feature_extraction.text import TfidfVectorizer\n",
    "from sklearn.metrics.pairwise import cosine_similarity\n",
    "import re"
   ]
  },
  {
   "cell_type": "code",
   "execution_count": 9,
   "id": "c9451256",
   "metadata": {},
   "outputs": [],
   "source": [
    "def clean_text(text):\n",
    "    \"\"\"\n",
    "    Lowercase, remove punctuation, and extra spaces\n",
    "    \"\"\"\n",
    "    if pd.isnull(text):\n",
    "        return \"\"\n",
    "    text = text.lower()\n",
    "    text = re.sub(r'[^\\w\\s]', '', text)\n",
    "    text = re.sub(r'\\s+', ' ', text).strip()\n",
    "    return text"
   ]
  },
  {
   "cell_type": "code",
   "execution_count": 10,
   "id": "35e4846f",
   "metadata": {},
   "outputs": [],
   "source": [
    "# Load datasets\n",
    "users_df = pd.read_csv('data/users.csv')\n",
    "jobs_df = pd.read_csv('data/jobs.csv')\n",
    "courses_df = pd.read_csv('data/courses.csv')  "
   ]
  },
  {
   "cell_type": "code",
   "execution_count": 11,
   "id": "b0500e70",
   "metadata": {},
   "outputs": [],
   "source": [
    "def recommend_jobs(user_input, top_n=5):\n",
    "    \"\"\"\n",
    "    user_input: dict with keys\n",
    "        'skills', 'education', 'region', 'language', 'preferred_job_type'\n",
    "    \"\"\"\n",
    "    # Clean user skills and education\n",
    "    user_skills = clean_text(user_input.get('skills', ''))\n",
    "    user_education = clean_text(user_input.get('education', ''))\n",
    "    user_region = user_input.get('region', '').lower()\n",
    "    user_language = user_input.get('language', '').lower()\n",
    "    preferred_job_type = user_input.get('preferred_job_type', '').lower()\n",
    "\n",
    "    # Preprocess job dataset\n",
    "    jobs_df['skills_clean'] = jobs_df['required_skills'].apply(clean_text)\n",
    "    jobs_df['education_clean'] = jobs_df['education_required'].apply(clean_text)\n",
    "    jobs_df['region_clean'] = jobs_df['region'].apply(lambda x: str(x).lower())\n",
    "    jobs_df['language_clean'] = jobs_df['language_preference'].apply(lambda x: str(x).lower())\n",
    "    jobs_df['job_type_clean'] = jobs_df['job_type'].apply(lambda x: str(x).lower())\n",
    "\n",
    "    # Combine skills + education for vectorization\n",
    "    jobs_df['combined_text'] = jobs_df['skills_clean'] + ' ' + jobs_df['education_clean']\n",
    "\n",
    "    # TF-IDF Vectorizer\n",
    "    vectorizer = TfidfVectorizer()\n",
    "    job_vectors = vectorizer.fit_transform(jobs_df['combined_text'])\n",
    "    user_vector = vectorizer.transform([user_skills + ' ' + user_education])\n",
    "\n",
    "    # Cosine similarity\n",
    "    similarity = cosine_similarity(user_vector, job_vectors).flatten()\n",
    "    jobs_df['similarity'] = similarity\n",
    "\n",
    "    # Filter by region, language, job type\n",
    "    filtered_jobs = jobs_df[\n",
    "        (jobs_df['region_clean'] == user_region) &\n",
    "        (jobs_df['language_clean'] == user_language) &\n",
    "        (jobs_df['job_type_clean'] == preferred_job_type)\n",
    "    ]\n",
    "\n",
    "    # Sort by similarity\n",
    "    top_jobs = filtered_jobs.sort_values(by='similarity', ascending=False).head(top_n)\n",
    "\n",
    "    # Optional: recommend courses\n",
    "    recommended_courses = []\n",
    "    for skill in user_skills.split(','):\n",
    "        skill = skill.strip()\n",
    "        courses = courses_df[courses_df['related_skill'].str.contains(skill, case=False, na=False)]\n",
    "        recommended_courses.extend(courses['course_name'].tolist())\n",
    "\n",
    "    return top_jobs, recommended_courses"
   ]
  },
  {
   "cell_type": "code",
   "execution_count": 18,
   "id": "18f4df08",
   "metadata": {},
   "outputs": [
    {
     "ename": "ModuleNotFoundError",
     "evalue": "No module named 'recommender'",
     "output_type": "error",
     "traceback": [
      "\u001b[1;31m---------------------------------------------------------------------------\u001b[0m",
      "\u001b[1;31mModuleNotFoundError\u001b[0m                       Traceback (most recent call last)",
      "Cell \u001b[1;32mIn[18], line 4\u001b[0m\n\u001b[0;32m      2\u001b[0m \u001b[38;5;28;01mfrom\u001b[39;00m \u001b[38;5;21;01msklearn\u001b[39;00m\u001b[38;5;21;01m.\u001b[39;00m\u001b[38;5;21;01mfeature_extraction\u001b[39;00m\u001b[38;5;21;01m.\u001b[39;00m\u001b[38;5;21;01mtext\u001b[39;00m \u001b[38;5;28;01mimport\u001b[39;00m TfidfVectorizer\n\u001b[0;32m      3\u001b[0m \u001b[38;5;28;01mfrom\u001b[39;00m \u001b[38;5;21;01msklearn\u001b[39;00m\u001b[38;5;21;01m.\u001b[39;00m\u001b[38;5;21;01mmetrics\u001b[39;00m\u001b[38;5;21;01m.\u001b[39;00m\u001b[38;5;21;01mpairwise\u001b[39;00m \u001b[38;5;28;01mimport\u001b[39;00m cosine_similarity\n\u001b[1;32m----> 4\u001b[0m \u001b[38;5;28;01mfrom\u001b[39;00m \u001b[38;5;21;01mrecommender\u001b[39;00m \u001b[38;5;28;01mimport\u001b[39;00m recommend_jobs\n",
      "\u001b[1;31mModuleNotFoundError\u001b[0m: No module named 'recommender'"
     ]
    }
   ],
   "source": [
    "import pandas as pd\n",
    "from sklearn.feature_extraction.text import TfidfVectorizer\n",
    "from sklearn.metrics.pairwise import cosine_similarity\n",
    "from recommender import recommend_jobs"
   ]
  },
  {
   "cell_type": "code",
   "execution_count": 19,
   "id": "ea88ba28",
   "metadata": {},
   "outputs": [
    {
     "name": "stdout",
     "output_type": "stream",
     "text": [
      "Welcome to SkillBridge Job Recommender!\n",
      "Please enter your details:\n",
      "\n",
      "Top Jobs:\n",
      "No matching jobs found.\n",
      "\n",
      "Recommended Courses:\n",
      "- House Wiring and Maintenance  (NSDC)\n",
      "- House Wiring and Maintenance  (NSDC)\n",
      "- Automobile Maintenance  (NSDC)\n",
      "- Mechanics Training  (Coursera)\n",
      "- Computer Basics  (NSDC)\n"
     ]
    }
   ],
   "source": [
    "if __name__ == \"__main__\":\n",
    "    \n",
    "    print(\"Welcome to SkillBridge Job Recommender!\\nPlease enter your details:\")\n",
    "\n",
    "    skills = input(\"Enter your skills (comma-separated, e.g., electrical, wiring, maintenance): \").lower()\n",
    "    education = input(\"Enter your highest education (e.g., Diploma in Electrical): \").lower()\n",
    "    region = input(\"Enter your region/state (e.g., Tamil Nadu): \").title()\n",
    "    language = input(\"Enter your preferred language (e.g., Tamil): \").title()\n",
    "    preferred_job_type = input(\"Enter preferred job type (e.g., government, private): \").lower()\n",
    "\n",
    "    user_input = {\n",
    "        'skills': skills,\n",
    "        'education': education,\n",
    "        'region': region,\n",
    "        'language': language,\n",
    "        'preferred_job_type': preferred_job_type\n",
    "    }\n",
    "\n",
    "    # --- Get job recommendations ---\n",
    "    jobs, _ = recommend_jobs(user_input, top_n=5)\n",
    "\n",
    "    print(\"\\nTop Jobs:\")\n",
    "    if not jobs.empty:\n",
    "        print(jobs[['job_title', 'company_name', 'location', 'salary']])\n",
    "    else:\n",
    "        print(\"No matching jobs found.\")\n",
    "\n",
    "    # --- Smart Course Recommendation (TF-IDF Similarity) ---\n",
    "    print(\"\\nRecommended Courses:\")\n",
    "\n",
    "    try:\n",
    "        # Load courses dataset\n",
    "        courses_df = pd.read_csv(\"data/courses.csv\")\n",
    "\n",
    "        # Combine course name + related skills for richer context\n",
    "        courses_df[\"combined_text\"] = courses_df[\"course_name\"].fillna(\"\") + \" \" + courses_df[\"related_skill\"].fillna(\"\")\n",
    "\n",
    "        # Create TF-IDF matrix\n",
    "        vectorizer = TfidfVectorizer(stop_words='english')\n",
    "        tfidf_matrix = vectorizer.fit_transform(courses_df[\"combined_text\"])\n",
    "\n",
    "        # Transform user skills into TF-IDF vector\n",
    "        user_vector = vectorizer.transform([skills])\n",
    "\n",
    "        # Compute cosine similarity between user skills and all courses\n",
    "        similarity_scores = cosine_similarity(user_vector, tfidf_matrix).flatten()\n",
    "\n",
    "        # Attach scores to dataframe\n",
    "        courses_df[\"similarity\"] = similarity_scores\n",
    "\n",
    "        # Sort by similarity\n",
    "        top_courses = courses_df.sort_values(by=\"similarity\", ascending=False).head(5)\n",
    "\n",
    "        # Display top courses only if score > 0\n",
    "        top_courses = top_courses[top_courses[\"similarity\"] > 0]\n",
    "\n",
    "        if not top_courses.empty:\n",
    "            for _, row in top_courses.iterrows():\n",
    "                print(f\"- {row['course_name']}  ({row.get('provider', 'Unknown Provider')})\")\n",
    "        else:\n",
    "            print(\"No closely matching courses found for your skills.\")\n",
    "\n",
    "    except Exception as e:\n",
    "        print(\"Error loading or processing courses:\", e)\n"
   ]
  }
 ],
 "metadata": {
  "kernelspec": {
   "display_name": "Python 3",
   "language": "python",
   "name": "python3"
  },
  "language_info": {
   "codemirror_mode": {
    "name": "ipython",
    "version": 3
   },
   "file_extension": ".py",
   "mimetype": "text/x-python",
   "name": "python",
   "nbconvert_exporter": "python",
   "pygments_lexer": "ipython3",
   "version": "3.11.9"
  }
 },
 "nbformat": 4,
 "nbformat_minor": 5
}
